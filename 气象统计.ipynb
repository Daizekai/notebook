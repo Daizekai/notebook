{
 "cells": [
  {
   "cell_type": "markdown",
   "id": "6409b84c",
   "metadata": {},
   "source": [
    "## pass\n"
   ]
  },
  {
   "cell_type": "markdown",
   "id": "31e16ebd",
   "metadata": {},
   "source": [
    "## 单因素"
   ]
  },
  {
   "cell_type": "markdown",
   "id": "7627c9e5",
   "metadata": {},
   "source": [
    "[latex公式语法](https://zhuanlan.zhihu.com/p/110756681#:~:text=%E5%9C%A8LaTeX%E6%95%B0%E5%AD%A6%E6%A8%A1%E5%BC%8F%E4%B8%AD%EF%BC%8C%E5%85%AC%E5%BC%8F%E6%9C%89%E4%B8%A4%E7%A7%8D%E5%BD%A2%E5%BC%8F%E2%80%94%E2%80%94%E8%A1%8C%E5%86%85%E5%85%AC%E5%BC%8F%E5%92%8C%E8%A1%8C%E9%97%B4%E5%85%AC%E5%BC%8F%E3%80%82%E5%89%8D%E8%80%85%E5%85%AC%E5%BC%8F%E5%B5%8C%E5%85%A5%E5%9C%A8%E8%A1%8C%E5%86%85%EF%BC%8C%E9%80%82%E7%94%A8%E4%BA%8E%E7%AE%80%E5%8D%95%E7%9F%AD%E5%B0%8F%E7%9A%84%E5%85%AC%E5%BC%8F%EF%BC%9B%E5%90%8E%E8%80%85%E5%B1%85%E4%B8%AD%E7%8B%AC%E5%8D%A0%E4%B8%80%E8%A1%8C%EF%BC%8C%E9%80%82%E7%94%A8%E4%BA%8E%E6%AF%94%E8%BE%83%E9%95%BF%E6%88%96%E9%87%8D%E8%A6%81%E7%9A%84%E5%85%AC%E5%BC%8F%E3%80%82%E5%85%AC%E5%BC%8F%E4%B8%AD%E7%9A%84%E7%A9%BA%E6%A0%BC%E5%9D%87%E4%BC%9A%E8%A2%AB%E5%BF%BD%E7%95%A5%EF%BC%8C%E5%8F%AF%E4%BB%A5%E4%BD%BF%E7%94%A8%E5%91%BD%E4%BB%A4quad%E6%88%96qquad%E5%AE%9E%E7%8E%B0,%E5%9C%A8%E8%A1%8C%E9%97%B4%E5%85%AC%E5%BC%8F%E4%B8%AD%EF%BC%8C%E5%91%BD%E4%BB%A4tag%7Bn%7D%E5%8F%AF%E4%BB%A5%E8%BF%9B%E8%A1%8C%E6%89%8B%E5%8A%A8)\n",
    "\n",
    "[late公式常用](https://blog.csdn.net/qq_39232265/article/details/78868487)\n",
    "\n",
    "[Markdown语法](https://markdown.com.cn)\n",
    "\n",
    "[jupyter快捷键](https://blog.csdn.net/lawme/article/details/51034543)\n",
    "\n",
    "\n"
   ]
  },
  {
   "cell_type": "markdown",
   "id": "8f9bb66a",
   "metadata": {},
   "source": [
    "## 正态统计检验\n"
   ]
  },
  {
   "cell_type": "markdown",
   "id": "fd6fce99",
   "metadata": {},
   "source": [
    "### 正态检验统计量"
   ]
  },
  {
   "cell_type": "markdown",
   "id": "d7fa12df",
   "metadata": {},
   "source": [
    "统计量g1:偏度系数(skewness)  代码：`pd.skew()`\n",
    "\n",
    "表征分布形态与平均值的偏离程度;数学定义为：样本的三阶标准化矩。\n",
    "\n",
    "计算方法（魏凤英版）：$g_{1}={\\sqrt{\\frac{1}{6n}}\\sum_{i=1}^n{\\left(\\frac{x_{i}-\\overline{x}}{s}\\right)}^{3}}$\n",
    "\n",
    "有偏估计：$g_{1}=\\frac{{\\frac{1}{n}}{\\sum_{i=1}^n\\left(x_{i}-\\overline{x}\\right)^{3}}}{\\left(\\sqrt{{\\frac{1}{n}}{\\sum_{i=1}^n\\left(x_{i}-\\overline{x}\\right)^{2}}}\\right)^{3}}$\n",
    "\n",
    "偏度的取值范围为(-∞,+∞)\n",
    "\n",
    "当偏度<0时，**(negative skew)**概率分布图左偏分布（峰在右）。\n",
    "\n",
    "当偏度=0时，表示数据相对均匀的分布在平均值两侧，不一定是绝对的对称分布。**(要与正态分布偏度为0的情况进行区分)**\n",
    "\n",
    "当偏度>0时，**(positive skew)**概率分布图右偏。\n",
    "\n",
    "当偏度绝对值过大时，长尾的一侧出现极端值的可能性较高。\n",
    "\n"
   ]
  },
  {
   "cell_type": "markdown",
   "id": "26e4cf69",
   "metadata": {},
   "source": [
    "![这里写描述](https://img-blog.csdnimg.cn/img_convert/f813ea0a4b4ece3fd70a5c4cfc3d8877.png)"
   ]
  },
  {
   "cell_type": "markdown",
   "id": "b5e04768",
   "metadata": {},
   "source": [
    "统计量g2:峰度系数(kurtosis)  代码：`pd.kurt()`\n",
    "\n",
    "用来描述数据分布陡峭或是平滑的情况。数学定义：随机变量的四阶中心矩与方差平方的比值。\n",
    "\n",
    "计算方法（魏凤英版）：$g_{2}=\\sqrt{\\frac{n}{24}}[{\\frac{1}{n}}\\sum_{i=1}^{n}{({\\frac{x_{i}-\\overline{x}}{s})}}^{4}-3] $\n",
    "\n",
    "有偏估计：$g_{2}=\\frac{{\\frac{1}{n}}{\\sum_{i=1}^n\\left(x_{i}-\\overline{x}\\right)^{4}}}{\\left({\\frac{1}{n}}{\\sum_{i=1}^n\\left(x_{i}-\\overline{x}\\right)^{2}}\\right)^{2}}$\n",
    "\n",
    "当峰度<0时，**(fat tail)**数据分布更平坦，平均值代表性低。\n",
    "\n",
    "当峰度=0时，正态分布的峰态系数等于0。**（有些计算公式等于3）**\n",
    "\n",
    "当峰度>0时，**(thin tail)**数据分布更集中，平均值代表性高。\n",
    "\n"
   ]
  },
  {
   "cell_type": "markdown",
   "id": "6e15def0",
   "metadata": {},
   "source": [
    "![这里写描述](https://pic2.zhimg.com/80/v2-67887d745da1b7dce1468bfccb451d99_720w.jpg)"
   ]
  },
  {
   "cell_type": "code",
   "execution_count": 1,
   "id": "ccd8edd9",
   "metadata": {
    "scrolled": true
   },
   "outputs": [
    {
     "data": {
      "image/png": "[encoded data removed]",
      "text/plain": [
       "<Figure size 432x288 with 1 Axes>"
      ]
     },
     "metadata": {
      "needs_background": "light"
     },
     "output_type": "display_data"
    },
    {
     "name": "stdout",
     "output_type": "stream",
     "text": [
      "g1= 0.35673549091586665\n",
      "g2= 0.00397345414012662\n"
     ]
    }
   ],
   "source": [
    "import pandas as pd\n",
    "import numpy as np\n",
    "import matplotlib.pyplot as plt\n",
    "data =  list( [216,251,613,680,421,412,397,299,435,420,493,365,239,561,341,633,408,148,567,399,358,171,545,363,528,384,777,569,417,241,469,250,237,465,421,437,362,513,236,337,350,253,417,564,484,328])\n",
    "plt.hist(data,100,density=True,facecolor='g',alpha=0.9)\n",
    "plt.show()\n",
    "s = pd.Series(data)\n",
    "print('g1=',s.skew())#偏度计算\n",
    "print('g2=',s.kurtosis())#峰度计算"
   ]
  },
  {
   "cell_type": "markdown",
   "id": "35cc82dc",
   "metadata": {},
   "source": [
    "scipy库计算结果"
   ]
  },
  {
   "cell_type": "code",
   "execution_count": 31,
   "id": "56b2b47e",
   "metadata": {
    "scrolled": true
   },
   "outputs": [
    {
     "data": {
      "text/plain": [
       "-0.1241050708117637"
      ]
     },
     "execution_count": 31,
     "metadata": {},
     "output_type": "execute_result"
    }
   ],
   "source": [
    "import scipy.stats as st\n",
    "a =[216,251,613,680,421,412,397,299,435,420,493,365,239,561,341,633,408,148,567,399,358,171,545,363,528,384,777,569,417,241,469,250,237,465,421,437,362,513,236,337,350,253,417,564,484,328];\n",
    "st.skew(a) # 计算偏度\n",
    "st.kurtosis(a)"
   ]
  },
  {
   "cell_type": "markdown",
   "id": "82ec7171",
   "metadata": {},
   "source": [
    "### 正态分布检验"
   ]
  },
  {
   "cell_type": "markdown",
   "id": "a132a974",
   "metadata": {},
   "source": [
    "统计检验 \n",
    "\n",
    ">原理：小概率时间不可能发生\n",
    "\n",
    "步骤：\n",
    "\n",
    "\n",
    "1. 建立假设\n",
    "\n",
    "2. 构建统计量\n",
    "\n",
    "3. 确定 显著性水平($\\alpha$)\n",
    "\n",
    "4.  根据显著性水平确定临界值\n",
    "\n",
    "5. 做出判断\n",
    "\n",
    "当$n$足够大时候，标准偏度和峰度系数服从标准正态分布。建立变量服从正态分布假设，通过标准正态分布表对$g_{1}$和$g_{2}$检验。确立置信度范围($\\alpha=0.05,0.1$)，查表"
   ]
  },
  {
   "cell_type": "markdown",
   "id": "4685228a",
   "metadata": {},
   "source": [
    "**经验表明：**\n",
    "\n",
    "**年、月平均气温、气压、多雨地区的月降水量通常符合正态分布；旬平均气温基本符合；**\n",
    "\n",
    "**旬、侯降水量不一定符合**\n",
    "\n",
    "**日降水和少雨地区月降水通常时偏态**"
   ]
  },
  {
   "cell_type": "markdown",
   "id": "57ca2ee7",
   "metadata": {},
   "source": [
    "### 正态化处理方法\n",
    "- 对数变换:$x_{newi}=lnx_{i}$\n",
    "- 立方根:$x_{newi}=\\sqrt[3]{x_{i}}$\n",
    "- 平方根变换（离散变量）:$x_{newi}=\\sqrt{x_{i}+0.5}$\n",
    "- 双曲正切转换:$z_{nexit}=th\\frac{x_{it}-\\overline{x_{i}}}{x_{i}}$\n",
    "- 角变换（二项分布）:$x_{newi}=\\arcsin{\\sqrt{x_{i}}}$"
   ]
  },
  {
   "cell_type": "markdown",
   "id": "968dc008",
   "metadata": {
    "scrolled": true
   },
   "source": [
    "## 多因素气象资料"
   ]
  },
  {
   "cell_type": "markdown",
   "id": "85a5e048",
   "metadata": {},
   "source": [
    "### 数据表征"
   ]
  },
  {
   "cell_type": "markdown",
   "id": "0d6bbcc8",
   "metadata": {},
   "source": [
    "多要素气象资料矩阵：\n",
    "\n",
    "**R型因子分析**：行与行之间，时间序列和时间序列之间\n",
    "\n",
    "m个气象要素，n次观测值。数据矩阵为 $x_{ij} (i=1...m;j=1...n)$\n",
    "\n",
    "样本：$X_{i}=(x_{i1},...x_{in})$\n",
    "\n",
    "**Q型因子分析**:列与列之间，空间场和空间场的关系\n",
    "\n",
    "m个观测站点，n次观测值。数据矩阵为 $x_{ij} (i=1...m;j=1...n)$\n",
    "\n",
    "样本（站点）：$X_{j}=(x_{1j},...x_{mj})$"
   ]
  },
  {
   "cell_type": "markdown",
   "id": "d2b944bc",
   "metadata": {},
   "source": [
    "### 统计特征的表征"
   ]
  },
  {
   "cell_type": "markdown",
   "id": "da9b7731",
   "metadata": {},
   "source": [
    "**均值向量**：m个变量的样本均值组成向量$$\n",
    "意义：m维空间中的n个点的重心"
   ]
  },
  {
   "cell_type": "markdown",
   "id": "6c7eb7b6",
   "metadata": {},
   "source": [
    "**协方差**：n个样本的资料序列$x_{i},y_{i}$之间的线性关联程度，反映两个气象要素的异常关系的平均状况。\n",
    "$$s_{ij}={\\frac{1}{n}}{\\sum_{i=1}^{n}(x_{ij}-\\bar{x_{j}})(y_{ij}-\\bar{y_{j}})} $$\n",
    "\n",
    "矩阵形式:$S={\\frac{1}{n}}X_{d}X_{d}^{T}$ 其中$X_{d}=X_{i}-{\\bar{X}}$"
   ]
  },
  {
   "cell_type": "markdown",
   "id": "3cd46bc0",
   "metadata": {},
   "source": [
    "**(Pearson)相关系数**:标准化协方差\n",
    "\n",
    "$$r={\\frac{{\\frac{1}{n}}{\\sum_{i=1}^{n}(x_{ij}-\\bar{x_{j}})(y_{ij}-\\bar{y_{j}})}}{{\\left(\\sqrt{{\\frac{1}{n}}{\\sum_{i=1}^n\\left(x_{i}-\\overline{x}\\right)^{2}}}\\right)}{\\left(\\sqrt{{\\frac{1}{n}}{\\sum_{i=1}^n\\left(y_{i}-\\overline{y}\\right)^{2}}}\\right)}}}={\\frac{cov(x,y)}{s_{x}s_{i}}}$$\n",
    "\n"
   ]
  },
  {
   "cell_type": "markdown",
   "id": "58dfcea3",
   "metadata": {},
   "source": [
    "### 多维分布表和多为分布列"
   ]
  },
  {
   "cell_type": "code",
   "execution_count": null,
   "id": "aa4a43c9",
   "metadata": {},
   "outputs": [],
   "source": []
  },
  {
   "cell_type": "markdown",
   "id": "525e4a76",
   "metadata": {},
   "source": [
    "## 气候资料的审查与订正"
   ]
  },
  {
   "attachments": {},
   "cell_type": "markdown",
   "id": "e13c44b5",
   "metadata": {},
   "source": [
    "### 区域资料的整理\n",
    "\n",
    "区域资料的整理主要用于考虑某个变量在某个区域内的整体分布情况，更多地用于分析整个区域变量随时间的变化!\n",
    "\n",
    "（1）代表站方法（平均相关系数最大的台站）\n",
    "\n",
    "优点：计算简便，便于分析。缺点：代表站不好确定\n",
    "\n",
    "（2）区域平均法（区域内所有站的平均值）\n",
    "\n",
    "优点：计算简便，便于分析。缺点：异常站点影响大\n",
    "\n",
    "（3）综合指数法（考虑各台站方差的差异,站点方差差异大）\n",
    "$$\n",
    "\\begin{array}{l}\n",
    "\\;\\;\\;\\;\\;\\;{K_j} = \\frac{1}{m}{\\sum\\limits_{i = 1}^m {\\left( {\\frac{{{x_{ij}} - {{\\overline x }_i}}}{{{s_i}}}} \\right)} ^2}\\;\\;\\;\\;\\\\\n",
    "\\;\\;i = 1,2 \\cdots ,m;\\;\\;\\;j = 1,2 \\cdots ,n.\n",
    "\\end{array}$$\n",
    "\n",
    "优点：考虑因素多，较合理。缺点：计算繁琐\n",
    "\n",
    "实际方法：利用代表站法去除区域中的异常站点，然后再用区域平均法计算。\n",
    "\n",
    "### 资料的审查和订正方法\n",
    "\n",
    "**可靠性**：记录的精度和准确性达到一定的要求。\n",
    "\n",
    "**均一性**：记录序列逐年的变化仅受气候条件的影响，不受仪器的更换、测站位置的变迁、观测规程的改变以及观测员的主观偏见等因素的影响。\n",
    "\n",
    "方法：**插补**；**纠正**；**延长（观测序列过短的订正）**\n",
    "\n",
    "####  气候资料的质量标准\n",
    "\n",
    "（1）观测值对真值的误差（观测误差）；\n",
    "1、系统（仪器）误差；可基本消除\n",
    "\n",
    "根据规定进行器差订正后的观测值对真值的系统误差：温度不超过0.05℃，气压不超过0.05hPa，降水量不超过0.05mm。如果在整个记录时期，误差无改变，则由N次观测求得的算术平均值对真值的系统误差等于每次观测中的系统误差。而N次观测值总和的系统误差将是每次观测的系统误差的N倍。!\n",
    "2、过失误差； 可消除\n",
    "\n",
    "3、随机误差；不可消除\n",
    "\n",
    "随机误差各次观测值是相互独立的。所以，N次观测值算术平均值对真值的误差的方差是一次观测的随机误差的1/N倍，而N次观测总和的随机误差的方差则是一次观测时的N倍。\n",
    "\n",
    "因此，旬、月、年平均气温的随机误差一般可以忽略不计；但降水总量则不同，如果降水量每次观测精确到0.1mm,  则年、月降水量的随机误差可达几个毫米。\n",
    "\n",
    "\n",
    "（2）样本值对总体值的抽样误差。\n",
    "\n",
    "样本的重复抽样误差与样本容量成反比，与样本方差成正比。一般的，样本容量越大，特征值的抽样误差越小。\n",
    "\n",
    "\n",
    "\n",
    "#### 气候资料质量要求\n",
    "\n",
    "1）精确性：指测量得到数据的集中程度。**主要看其记录是否达到规定的精度，如气温达到0.1℃，气压达到0.1hPa，降水达到0.1mm等!)**\n",
    "\n",
    "2）准确性：指观测值与真值的符合程度。\n",
    "\n",
    "3）均一性：测站气象记录序列仅仅是气候变化的反映，那么资料是均一的。\n",
    "\n",
    "\n",
    "4）代表性：某个测站记录能否反映我们研究地区范围内的气候状况。**在不同目的、不同尺度的气候分析中，同一测站代表性可以是不同的。**\n",
    "受地形、研究尺度等影响，尽可能空旷\n",
    "\n",
    "5）比较性：不同测站气候变化的空间比较时，要求各测站的资料都在同一时期。\n",
    "\n",
    "\n",
    "#### 气候资料的审查方法\n",
    "\n",
    "1、技术性检查\n",
    "\n",
    "查阅测站历史沿革和资料说明，分析是否存在因测站迁移、仪器和观测方法更新、观测时制改革等引起的非均一性。\n",
    "\n",
    "根据观测规范、统计规定、检查观测记录和统计结果是否符合规定、校对统计计算有否错误。\n",
    "\n",
    "检查同一要素的各个统计项目之间是否协调。\n",
    "\n",
    "\n",
    "\n",
    "2、合理性检查\n",
    "\n",
    "(1)**本站前后期资料比审法**。（原理）气候变化是缓慢的、连续的。因此虽然逐年的观测值不一样，但它们应在一个大致的水平上随机波动。如果通过前后资料的对比，发现资料序列中存在明显的不连续变化，则可能存在非均一性，应配合测站历史沿革情况作进一步的分析判断。\n",
    "\n",
    "(2)**区域资料比审法**。相邻测站由于受同一天气系统的影响，常常有相当好的一致性和相关性。相邻测站气象要素之间的相互联系规律，可以成为我们发现和订正错误记录的重要依据。\n",
    "\n",
    "(3)**气象要素相关法**。各种不同的气象要素从不同的测面描写了一地的天气、气候特征以及它们之间存在着各种不同程度的相关。在实际工作中，常常用同一测站或者若干个地理环境相似测站的相关密切的两个要素的观测值作成相关图进行审查。当资料符合要求时，所有点子应密集地落在一根曲线或直线附近。如果个别点子明显偏离相关线，则这个点子的观测值可能有明显的误差。\n",
    "\n",
    "\n",
    "\n",
    "#### 气候资料的订正方法\n",
    "\n",
    "1）回归订正法\n",
    "\n",
    "**经验证明，愈是临近的台站，其统一要素的相关联系愈近似于线性**。若x为基本站，y为订正站，可根据订正站和基本站的平行观测资料建立一（多）元回归方程。用基本站不同要素值作为逐步回归因子建立与订正站某一要素的联系方程。\n",
    "\n",
    "2）差值订正法\n",
    "\n",
    "**相邻测站气象要素的差值的年际变化较之它本身的年际变化要小得多，这就是差值的稳定性**。**差值订正**最适宜于两个地理环境相近的台站做**气温、气压**等要素的订正。\n",
    "\n",
    "3）比值订正法\n",
    "\n",
    "**降水量这样的要素。但是他们的比值却往往具有稳定性。**\n",
    "\n",
    "\n",
    "#### 资料订正的适当性\n",
    "\n",
    "就是指订正值能更好的反映气候特征的实际情况。"
   ]
  }
 ],
 "metadata": {
  "kernelspec": {
   "display_name": "Python 3",
   "language": "python",
   "name": "python3"
  },
  "language_info": {
   "codemirror_mode": {
    "name": "ipython",
    "version": 3
   },
   "file_extension": ".py",
   "mimetype": "text/x-python",
   "name": "python",
   "nbconvert_exporter": "python",
   "pygments_lexer": "ipython3",
   "version": "3.8.8"
  },
  "toc": {
   "base_numbering": 1,
   "nav_menu": {},
   "number_sections": true,
   "sideBar": true,
   "skip_h1_title": false,
   "title_cell": "Table of Contents",
   "title_sidebar": "Contents",
   "toc_cell": false,
   "toc_position": {
    "height": "512.364px",
    "left": "986px",
    "top": "110.364px",
    "width": "212px"
   },
   "toc_section_display": true,
   "toc_window_display": true
  },
  "varInspector": {
   "cols": {
    "lenName": 16,
    "lenType": 16,
    "lenVar": 40
   },
   "kernels_config": {
    "python": {
     "delete_cmd_postfix": "",
     "delete_cmd_prefix": "del ",
     "library": "var_list.py",
     "varRefreshCmd": "print(var_dic_list())"
    },
    "r": {
     "delete_cmd_postfix": ") ",
     "delete_cmd_prefix": "rm(",
     "library": "var_list.r",
     "varRefreshCmd": "cat(var_dic_list()) "
    }
   },
   "types_to_exclude": [
    "module",
    "function",
    "builtin_function_or_method",
    "instance",
    "_Feature"
   ],
   "window_display": false
  }
 },
 "nbformat": 4,
 "nbformat_minor": 5
}
